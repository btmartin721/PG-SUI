{
 "metadata": {
  "language_info": {
   "codemirror_mode": {
    "name": "ipython",
    "version": 3
   },
   "file_extension": ".py",
   "mimetype": "text/x-python",
   "name": "python",
   "nbconvert_exporter": "python",
   "pygments_lexer": "ipython3",
   "version": "3.6.13"
  },
  "orig_nbformat": 2,
  "kernelspec": {
   "name": "python3613jvsc74a57bd0219ce8843521ffc8936c0a4b298e1a5024071311e153a5a0b9e9ed564df2e56f",
   "display_name": "Python 3.6.13 64-bit ('super_deli': conda)"
  },
  "metadata": {
   "interpreter": {
    "hash": "219ce8843521ffc8936c0a4b298e1a5024071311e153a5a0b9e9ed564df2e56f"
   }
  }
 },
 "nbformat": 4,
 "nbformat_minor": 2,
 "cells": [
  {
   "source": [
    "# Run the Super Deli API\n",
    "\n",
    "Below is a demonstration of the Super Deli API. This can be run in a python script or, as done here, in a Jupyter Notebook.\n",
    "\n",
    "## Package Requirements\n",
    "\n",
    "Super Deli requires the following packages to be installed:\n",
    "\n",
    "+ python >= 3.6\n",
    "+ numpy\n",
    "+ pandas\n",
    "+ matplotlib\n",
    "+ scikit-learn\n",
    "+ scikit-allel\n",
    "\n",
    "## GenotypeData Object\n",
    "\n",
    "The first thing to do is to generate the GenotypeData object. This object currently accepts STRUCTURE and PHYLIP-formatted input files.  \n",
    "\n",
    "### STRUCTURE Files\n",
    "\n",
    "The STRUCTURE file can use either the one or two rows per individual formats. It can also optionally have populations IDs as the second column. If the population IDs were not supplied, GenotypeData() expects a separate population map (popmap) file (see below for example).  \n",
    "\n",
    "### PHYLIP Files\n",
    "\n",
    "PHYLIP files require a separate population map (popmap) file (see above). \n",
    "\n",
    "### Popmap Files\n",
    "\n",
    "The popmap file is a two-column tab-separated file with no header line. The first column should be sample IDs and the second should be population IDs. The format is like this:\n",
    "\n",
    "```\n",
    "sample1 pop1\n",
    "sample2 pop1\n",
    "sample3 pop2\n",
    "sample4 pop2\n",
    "```  "
   ],
   "cell_type": "markdown",
   "metadata": {}
  },
  {
   "source": [
    "# Import required packages\n",
    "import sys\n",
    "import numpy as np\n",
    "import pandas as pd\n",
    "\n",
    "# Make sure python version is >= 3.6\n",
    "if sys.version_info < (3, 6):\n",
    "\traise ImportError(\"Python < 3.6 is not supported!\")\n",
    "\n",
    "# Super Deli module imports\n",
    "from dim_reduction.pca import DimReduction\n",
    "from read_input.read_input import GenotypeData\n",
    "import read_input.impute as impute"
   ],
   "cell_type": "code",
   "metadata": {},
   "execution_count": 25,
   "outputs": []
  },
  {
   "source": [
    "## Create the GenotypeData object\n",
    "\n",
    "If structure was used with two rows per individual set the filetype=\"structure2row\".\n",
    "Otherwise set filetype=\"structure1row\"  \n",
    "\n",
    "Then you can create the GenotypeData object\n"
   ],
   "cell_type": "markdown",
   "metadata": {}
  },
  {
   "source": [
    "data = GenotypeData(filename=\"example_data/structure_files/test.nopops.str\", filetype=\"structure2row\", popmapfile=\"example_data/popmaps/test.popmap\")"
   ],
   "cell_type": "code",
   "metadata": {},
   "execution_count": 26,
   "outputs": [
    {
     "output_type": "stream",
     "name": "stdout",
     "text": [
      "\n",
      "Reading structure file example_data/structure_files/test.nopops.str...\n",
      "Done!\n",
      "\n",
      "Converting genotypes to one-hot encoding...\n",
      "Done!\n",
      "\n",
      "Converting genotypes to 012 format...\n",
      "Done!\n",
      "\n",
      "Found 2024 SNPs and 117 individuals...\n",
      "\n"
     ]
    }
   ]
  },
  {
   "source": [
    "## Accessing GenotypeData Attributes\n",
    "\n",
    "Now you can access the GenotypeData class attributes.\n",
    "\n",
    "You can get it in several different formats, such as a 2-D list, numpy array, and pandas DataFrame. \n",
    "Below is how we get the pandas DataFrame  "
   ],
   "cell_type": "markdown",
   "metadata": {}
  },
  {
   "cell_type": "code",
   "execution_count": 27,
   "metadata": {
    "tags": []
   },
   "outputs": [
    {
     "output_type": "error",
     "ename": "AttributeError",
     "evalue": "'GenotypeData' object has no attribute 'genotypes_df'",
     "traceback": [
      "\u001b[1;31m---------------------------------------------------------------------------\u001b[0m",
      "\u001b[1;31mAttributeError\u001b[0m                            Traceback (most recent call last)",
      "\u001b[1;32m<ipython-input-27-76adf003d988>\u001b[0m in \u001b[0;36m<module>\u001b[1;34m\u001b[0m\n\u001b[1;32m----> 1\u001b[1;33m \u001b[0mprint\u001b[0m\u001b[1;33m(\u001b[0m\u001b[0mdata\u001b[0m\u001b[1;33m.\u001b[0m\u001b[0mgenotypes_df\u001b[0m\u001b[1;33m)\u001b[0m\u001b[1;33m\u001b[0m\u001b[1;33m\u001b[0m\u001b[0m\n\u001b[0m",
      "\u001b[1;31mAttributeError\u001b[0m: 'GenotypeData' object has no attribute 'genotypes_df'"
     ]
    }
   ],
   "source": [
    "print(data.genotypes_df)"
   ]
  },
  {
   "cell_type": "code",
   "execution_count": null,
   "metadata": {},
   "outputs": [],
   "source": []
  }
 ]
}